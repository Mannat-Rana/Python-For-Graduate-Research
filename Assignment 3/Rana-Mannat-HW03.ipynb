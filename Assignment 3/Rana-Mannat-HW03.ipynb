{
 "cells": [
  {
   "cell_type": "markdown",
   "metadata": {},
   "source": [
    "# Assignment 3 (loops and conditions)\n",
    "#### 140 points"
   ]
  },
  {
   "cell_type": "markdown",
   "metadata": {},
   "source": [
    "__(Instruction)__ The purpose of this assignment is to practice using for and while loops and if-elif-else conditions\n",
    "\n",
    "* Although there are functions available in Python to do most of the problems in this assignment, it is important that we know how to solve these problems using loops and conditions. This way, we can handle more complex work that cannot be done by pre-existing functions. In addition, we can also make our own functions by using loops and conditions. In such case, we are not limited by the resources online.\n",
    "\n",
    "Due date: March 24th, 2022, 11:59pm"
   ]
  },
  {
   "cell_type": "markdown",
   "metadata": {},
   "source": [
    "### Question 1\n",
    "Write a program to calculate the factorial of a positive integer input by the user. Recall that the factorial function is given by $x! = x (x-1) (x-2) ... (2) (1)$ so that $1!=1$, $2!=2$, $3!=6$, $4!=24$, ..."
   ]
  },
  {
   "cell_type": "markdown",
   "metadata": {},
   "source": [
    "(a) Write the factorial function using a Python `while` loop. \n",
    "* (5 points)"
   ]
  },
  {
   "cell_type": "code",
   "execution_count": 16,
   "metadata": {},
   "outputs": [
    {
     "name": "stdout",
     "output_type": "stream",
     "text": [
      "1! = 1\n",
      "2! = 2\n",
      "3! = 6\n",
      "4! = 24\n"
     ]
    }
   ],
   "source": [
    "def factorial_with_while(num):\n",
    "    ans = 1\n",
    "    while (num > 1):\n",
    "        ans *= num\n",
    "        num -= 1\n",
    "    return ans\n",
    "\n",
    "print(f'1! = {factorial_with_while(1)}')\n",
    "print(f'2! = {factorial_with_while(2)}')\n",
    "print(f'3! = {factorial_with_while(3)}')\n",
    "print(f'4! = {factorial_with_while(4)}')"
   ]
  },
  {
   "cell_type": "markdown",
   "metadata": {},
   "source": [
    "(b) Write the factorial function using a Python `for` loop. \n",
    "*(5 points)"
   ]
  },
  {
   "cell_type": "code",
   "execution_count": 17,
   "metadata": {},
   "outputs": [
    {
     "name": "stdout",
     "output_type": "stream",
     "text": [
      "1! = 1\n",
      "2! = 2\n",
      "3! = 6\n",
      "4! = 24\n"
     ]
    }
   ],
   "source": [
    "def factorial_with_for(num):\n",
    "    ans = 1\n",
    "    for i in range(num):\n",
    "        ans *= (i + 1)\n",
    "    return ans\n",
    "print(f'1! = {factorial_with_for(1)}')\n",
    "print(f'2! = {factorial_with_for(2)}')\n",
    "print(f'3! = {factorial_with_for(3)}')\n",
    "print(f'4! = {factorial_with_for(4)}')"
   ]
  },
  {
   "cell_type": "markdown",
   "metadata": {},
   "source": [
    "(c) With a given integral number n, write a program to generate a dictionary that contains (i, factorial of i) such that is an integral number between 1 and n (both included) \n",
    "\n",
    "Suppose the following input is supplied to the program:\n",
    "8\n",
    "\n",
    "Then, the output should be:\n",
    "{1: 1, 2: 2, 3: 6, 4: 24, 5: 120, 6: 720, 7: 5040, 8: 40320}\n",
    "* (10 points)"
   ]
  },
  {
   "cell_type": "code",
   "execution_count": 18,
   "metadata": {},
   "outputs": [
    {
     "name": "stdout",
     "output_type": "stream",
     "text": [
      "Factorial Dictionary for 8 = {1: 1, 2: 2, 3: 6, 4: 24, 5: 120, 6: 720, 7: 5040, 8: 40320}\n"
     ]
    }
   ],
   "source": [
    "def factorial_dict(num):\n",
    "    ans = {}\n",
    "    for i in range(1, num + 1):\n",
    "        ans[i] = factorial_with_for(i)\n",
    "    return ans\n",
    "print(f'Factorial Dictionary for 8 = {factorial_dict(8)}')"
   ]
  },
  {
   "cell_type": "markdown",
   "metadata": {},
   "source": [
    "### Question 2\n",
    "Write a program which will find all such numbers which are divisible by 7 but are not a multiple of 5, between 2000 and 3200 (both included).\n",
    "* (5 points)"
   ]
  },
  {
   "cell_type": "code",
   "execution_count": 19,
   "metadata": {},
   "outputs": [
    {
     "data": {
      "text/plain": [
       "[2002,\n",
       " 2009,\n",
       " 2016,\n",
       " 2023,\n",
       " 2037,\n",
       " 2044,\n",
       " 2051,\n",
       " 2058,\n",
       " 2072,\n",
       " 2079,\n",
       " 2086,\n",
       " 2093,\n",
       " 2107,\n",
       " 2114,\n",
       " 2121,\n",
       " 2128,\n",
       " 2142,\n",
       " 2149,\n",
       " 2156,\n",
       " 2163,\n",
       " 2177,\n",
       " 2184,\n",
       " 2191,\n",
       " 2198,\n",
       " 2212,\n",
       " 2219,\n",
       " 2226,\n",
       " 2233,\n",
       " 2247,\n",
       " 2254,\n",
       " 2261,\n",
       " 2268,\n",
       " 2282,\n",
       " 2289,\n",
       " 2296,\n",
       " 2303,\n",
       " 2317,\n",
       " 2324,\n",
       " 2331,\n",
       " 2338,\n",
       " 2352,\n",
       " 2359,\n",
       " 2366,\n",
       " 2373,\n",
       " 2387,\n",
       " 2394,\n",
       " 2401,\n",
       " 2408,\n",
       " 2422,\n",
       " 2429,\n",
       " 2436,\n",
       " 2443,\n",
       " 2457,\n",
       " 2464,\n",
       " 2471,\n",
       " 2478,\n",
       " 2492,\n",
       " 2499,\n",
       " 2506,\n",
       " 2513,\n",
       " 2527,\n",
       " 2534,\n",
       " 2541,\n",
       " 2548,\n",
       " 2562,\n",
       " 2569,\n",
       " 2576,\n",
       " 2583,\n",
       " 2597,\n",
       " 2604,\n",
       " 2611,\n",
       " 2618,\n",
       " 2632,\n",
       " 2639,\n",
       " 2646,\n",
       " 2653,\n",
       " 2667,\n",
       " 2674,\n",
       " 2681,\n",
       " 2688,\n",
       " 2702,\n",
       " 2709,\n",
       " 2716,\n",
       " 2723,\n",
       " 2737,\n",
       " 2744,\n",
       " 2751,\n",
       " 2758,\n",
       " 2772,\n",
       " 2779,\n",
       " 2786,\n",
       " 2793,\n",
       " 2807,\n",
       " 2814,\n",
       " 2821,\n",
       " 2828,\n",
       " 2842,\n",
       " 2849,\n",
       " 2856,\n",
       " 2863,\n",
       " 2877,\n",
       " 2884,\n",
       " 2891,\n",
       " 2898,\n",
       " 2912,\n",
       " 2919,\n",
       " 2926,\n",
       " 2933,\n",
       " 2947,\n",
       " 2954,\n",
       " 2961,\n",
       " 2968,\n",
       " 2982,\n",
       " 2989,\n",
       " 2996,\n",
       " 3003,\n",
       " 3017,\n",
       " 3024,\n",
       " 3031,\n",
       " 3038,\n",
       " 3052,\n",
       " 3059,\n",
       " 3066,\n",
       " 3073,\n",
       " 3087,\n",
       " 3094,\n",
       " 3101,\n",
       " 3108,\n",
       " 3122,\n",
       " 3129,\n",
       " 3136,\n",
       " 3143,\n",
       " 3157,\n",
       " 3164,\n",
       " 3171,\n",
       " 3178,\n",
       " 3192,\n",
       " 3199]"
      ]
     },
     "execution_count": 19,
     "metadata": {},
     "output_type": "execute_result"
    }
   ],
   "source": [
    "def find_divisible_not_multiple(div_factor, mult_factor, lower_limit, upper_limit):\n",
    "    nums = []\n",
    "    for num in range(lower_limit, upper_limit + 1):\n",
    "        if ((num % 7 == 0) and (num % 5 != 0)):\n",
    "            nums.append(num)\n",
    "    return nums\n",
    "find_divisible_not_multiple(7, 5, 2000, 3200)"
   ]
  },
  {
   "cell_type": "markdown",
   "metadata": {},
   "source": [
    "### Question 3\n",
    "(a) Consider the matrix list `x = [[1, 2, 3], [4, 5, 6], [7, 8, 9]]`. Write a list comprehension to extract the last column of the matrix \\[3, 6, 9\\].\n",
    "* (5 points)"
   ]
  },
  {
   "cell_type": "code",
   "execution_count": 20,
   "metadata": {},
   "outputs": [],
   "source": [
    "x = [[1, 2, 3], [4, 5, 6], [7, 8, 9]]"
   ]
  },
  {
   "cell_type": "code",
   "execution_count": 21,
   "metadata": {},
   "outputs": [
    {
     "name": "stdout",
     "output_type": "stream",
     "text": [
      "Last Column in x = [3, 6, 9]\n"
     ]
    }
   ],
   "source": [
    "last_column_x = [row[2] for row in x]\n",
    "print(f'Last Column in x = {last_column_x}')"
   ]
  },
  {
   "cell_type": "markdown",
   "metadata": {},
   "source": [
    "(b) Write another list comprehension to create a vector of twice the square of the middle column `[8, 50, 128]`.\n",
    "* (5 points)"
   ]
  },
  {
   "cell_type": "code",
   "execution_count": 22,
   "metadata": {},
   "outputs": [
    {
     "name": "stdout",
     "output_type": "stream",
     "text": [
      "Twice the Square of the Middle Column in x = [8, 50, 128]\n"
     ]
    }
   ],
   "source": [
    "twice_square_middle_column_x = [2 * pow(row[1], 2) for row in x]\n",
    "print(f'Twice the Square of the Middle Column in x = {twice_square_middle_column_x}')"
   ]
  },
  {
   "cell_type": "markdown",
   "metadata": {},
   "source": [
    "### Question 4\n",
    "In EX07, we have worked together to write a code to read the file earthquake.csv and assign each column to a list. We now want to further examine this earthquake catalog."
   ]
  },
  {
   "cell_type": "markdown",
   "metadata": {},
   "source": [
    "The code is shown below"
   ]
  },
  {
   "cell_type": "code",
   "execution_count": 23,
   "metadata": {},
   "outputs": [],
   "source": [
    "fp=open('earthquake.csv','r')\n",
    "data=fp.readlines()\n",
    "fp.close()\n",
    "year=[];month=[];day=[];time=[];mag=[];lat=[];lon=[];depth=[];region=[]\n",
    "\n",
    "for line in data[1:]:\n",
    "    temp=line.split(',')\n",
    "    year+=[temp[0]]\n",
    "    month+=[temp[1]]\n",
    "    day+=[temp[2]]\n",
    "    time+=[temp[3]]\n",
    "    mag+=[temp[4]]\n",
    "    lat+=[temp[5]]\n",
    "    lon+=[temp[6]]\n",
    "    depth+=[temp[7]]\n",
    "    if \"\\\"\" in line:\n",
    "        region+=[temp[8]+\",\"+temp[9]]\n",
    "    else:\n",
    "        region+=[temp[8]]"
   ]
  },
  {
   "cell_type": "markdown",
   "metadata": {},
   "source": [
    "The code above will give you variables of 'year', 'month', 'day', 'time', 'mag', 'lon', 'lat', 'depth', and 'regoin'. All these variables have `list` data type.\n",
    "__Be careful that  each element within the lists has `string` data type.__ Therefore, you will need to first convert strings to numbers before apply mathmatic operations on it."
   ]
  },
  {
   "cell_type": "code",
   "execution_count": 24,
   "metadata": {},
   "outputs": [
    {
     "name": "stdout",
     "output_type": "stream",
     "text": [
      "10 10.0 10\n"
     ]
    }
   ],
   "source": [
    "# To convert a string to a number, we use float() or int() functions\n",
    "a=\"10\"\n",
    "b=float(a)\n",
    "c=int(a)\n",
    "print(a,b,c)"
   ]
  },
  {
   "cell_type": "markdown",
   "metadata": {},
   "source": [
    "(a) Use `for` loop, or list comprehension to convert all elements in the lists of 'mag','lon','lat',and 'depth' to floating numbers, and all elements in 'year', 'month', and 'day' to integer numbers. Remember, only change the data type of each element, and do not change the variable names.\n",
    "* (10 points)"
   ]
  },
  {
   "cell_type": "code",
   "execution_count": 25,
   "metadata": {},
   "outputs": [],
   "source": [
    "mag = [float(mag_val) for mag_val in mag]\n",
    "lon = [float(lon_val) for lon_val in lon]\n",
    "lat = [float(lat_val) for lat_val in lat]\n",
    "depth = [float(depth_val) for depth_val in depth]\n",
    "\n",
    "year = [int(year_val) for year_val in year]\n",
    "month = [int(month_val) for month_val in month]\n",
    "day = [int(day_val) for day_val in day]"
   ]
  },
  {
   "cell_type": "markdown",
   "metadata": {},
   "source": [
    "(b) Using `for` loop to calculate the average magnitude of the earthquakes in this catalog.\n",
    "* (10 points)"
   ]
  },
  {
   "cell_type": "code",
   "execution_count": 26,
   "metadata": {},
   "outputs": [
    {
     "name": "stdout",
     "output_type": "stream",
     "text": [
      "Average Magnitude of Earthquakes in this Catalog: 1.7830000000000006\n"
     ]
    }
   ],
   "source": [
    "mag_sum = 0\n",
    "mag_len = 0\n",
    "for mag_val in mag:\n",
    "    mag_len += 1\n",
    "    mag_sum += mag_val\n",
    "average_mag = mag_sum / mag_len\n",
    "print(f'Average Magnitude of Earthquakes in this Catalog: {average_mag}')"
   ]
  },
  {
   "cell_type": "markdown",
   "metadata": {},
   "source": [
    "(c) Calculate the average depth of the earthquakes whose magnitude is larger than 2.0\n",
    "* (15 points)"
   ]
  },
  {
   "cell_type": "code",
   "execution_count": 27,
   "metadata": {},
   "outputs": [
    {
     "name": "stdout",
     "output_type": "stream",
     "text": [
      "Average Depth for Earthquakes with Magnitudes over 2.0: 45.59810606060604 km\n"
     ]
    }
   ],
   "source": [
    "depth_sum = 0\n",
    "depth_len = 0\n",
    "index = 0\n",
    "for mag_val in mag:\n",
    "    if (mag_val > 2.0):\n",
    "        depth_len += 1\n",
    "        depth_sum += depth[index]\n",
    "    index += 1\n",
    "average_depth = depth_sum / depth_len\n",
    "print(f'Average Depth for Earthquakes with Magnitudes over 2.0: {average_depth} km')"
   ]
  },
  {
   "cell_type": "markdown",
   "metadata": {},
   "source": [
    "(d) Use loop and condition to find the maximum depth of the earthquakes\n",
    "* (20 points)"
   ]
  },
  {
   "cell_type": "code",
   "execution_count": 28,
   "metadata": {},
   "outputs": [
    {
     "name": "stdout",
     "output_type": "stream",
     "text": [
      "Max Earthquake Depth: 573.9 km\n"
     ]
    }
   ],
   "source": [
    "max = float('-inf')\n",
    "for depth_val in depth:\n",
    "    if (max < depth_val):\n",
    "        max = depth_val\n",
    "print(f'Max Earthquake Depth: {max} km')"
   ]
  },
  {
   "cell_type": "markdown",
   "metadata": {},
   "source": [
    "(e) In which region(s) does the largest earthquake(s) happen?\n",
    "* (25 points)"
   ]
  },
  {
   "cell_type": "code",
   "execution_count": 29,
   "metadata": {},
   "outputs": [
    {
     "name": "stdout",
     "output_type": "stream",
     "text": [
      "Region: \"MINDANAO, PHILIPPINES\", Magnitude: 5.9\n"
     ]
    }
   ],
   "source": [
    "largest_mag_indexes = []\n",
    "max = float('-inf')\n",
    "for mag_val in mag:\n",
    "    if (mag_val > max):\n",
    "        max = mag_val\n",
    "index = 0\n",
    "for mag_val in mag:\n",
    "    if (mag_val == max):\n",
    "        largest_mag_indexes.append(index)\n",
    "    index += 1\n",
    "for i in largest_mag_indexes:\n",
    "    print(f'Region: {region[i]}, Magnitude: {mag[i]}')"
   ]
  },
  {
   "cell_type": "markdown",
   "metadata": {},
   "source": [
    "(f) In which region(s) and at what year, month, day and time do the deepest earthquake(s) happen?\n",
    "* (30 points)"
   ]
  },
  {
   "cell_type": "code",
   "execution_count": 30,
   "metadata": {},
   "outputs": [
    {
     "name": "stdout",
     "output_type": "stream",
     "text": [
      "Region: FLORES SEA, Year: 2019, Month: 2, Day: 10, Time: 22:54:37, Depth: 573.9 km\n"
     ]
    }
   ],
   "source": [
    "largest_depth_indexes = []\n",
    "max = float('-inf')\n",
    "for depth_val in depth:\n",
    "    if (depth_val > max):\n",
    "        max = depth_val\n",
    "index = 0\n",
    "for depth_val in depth:\n",
    "    if (depth_val == max):\n",
    "        largest_depth_indexes.append(index)\n",
    "    index += 1\n",
    "for i in largest_depth_indexes:\n",
    "    print(f'Region: {region[i]}, Year: {year[i]}, Month: {month[i]}, Day: {day[i]}, Time: {time[i]}, Depth: {depth[i]} km')"
   ]
  }
 ],
 "metadata": {
  "kernelspec": {
   "display_name": "Python 3 (ipykernel)",
   "language": "python",
   "name": "python3"
  },
  "language_info": {
   "codemirror_mode": {
    "name": "ipython",
    "version": 3
   },
   "file_extension": ".py",
   "mimetype": "text/x-python",
   "name": "python",
   "nbconvert_exporter": "python",
   "pygments_lexer": "ipython3",
   "version": "3.9.7"
  }
 },
 "nbformat": 4,
 "nbformat_minor": 4
}
