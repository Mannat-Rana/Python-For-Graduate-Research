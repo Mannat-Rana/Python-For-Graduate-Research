{
 "cells": [
  {
   "cell_type": "markdown",
   "metadata": {},
   "source": [
    "# Assignment 6 (Pandas)\n",
    "#### 70 points"
   ]
  },
  {
   "cell_type": "markdown",
   "metadata": {},
   "source": [
    "__(Instruction)__ The purpose of this assignment is to practice using Pandas module\n",
    "\n",
    "* We did similar problems in this homework before in Assignment #3 using loops and conditions. In assignment #6, please use functions in Pandas. No loops and conditions are allowed.\n",
    "\n",
    "Due date: April 14th, 2022, 11:59pm"
   ]
  },
  {
   "cell_type": "code",
   "execution_count": 1,
   "metadata": {},
   "outputs": [],
   "source": [
    "import numpy as np\n",
    "import pandas as pd"
   ]
  },
  {
   "cell_type": "markdown",
   "metadata": {},
   "source": [
    "### Question"
   ]
  },
  {
   "cell_type": "markdown",
   "metadata": {},
   "source": [
    "### (a) read the csv file named 'earthquake.csv' under the same current folder, and assign the data to a variable named 'eq'\n",
    "(5 points)"
   ]
  },
  {
   "cell_type": "code",
   "execution_count": 2,
   "metadata": {},
   "outputs": [
    {
     "data": {
      "text/html": [
       "<div>\n",
       "<style scoped>\n",
       "    .dataframe tbody tr th:only-of-type {\n",
       "        vertical-align: middle;\n",
       "    }\n",
       "\n",
       "    .dataframe tbody tr th {\n",
       "        vertical-align: top;\n",
       "    }\n",
       "\n",
       "    .dataframe thead th {\n",
       "        text-align: right;\n",
       "    }\n",
       "</style>\n",
       "<table border=\"1\" class=\"dataframe\">\n",
       "  <thead>\n",
       "    <tr style=\"text-align: right;\">\n",
       "      <th></th>\n",
       "      <th>Year</th>\n",
       "      <th>Month</th>\n",
       "      <th>Day</th>\n",
       "      <th>Mag</th>\n",
       "      <th>Lat</th>\n",
       "      <th>Lon</th>\n",
       "      <th>Depth km</th>\n",
       "      <th>IRIS ID</th>\n",
       "      <th>Timestamp</th>\n",
       "    </tr>\n",
       "  </thead>\n",
       "  <tbody>\n",
       "    <tr>\n",
       "      <th>count</th>\n",
       "      <td>1000.0</td>\n",
       "      <td>1000.0</td>\n",
       "      <td>1000.000000</td>\n",
       "      <td>1000.000000</td>\n",
       "      <td>1000.000000</td>\n",
       "      <td>1000.000000</td>\n",
       "      <td>1000.000000</td>\n",
       "      <td>1.000000e+03</td>\n",
       "      <td>1.000000e+03</td>\n",
       "    </tr>\n",
       "    <tr>\n",
       "      <th>mean</th>\n",
       "      <td>2019.0</td>\n",
       "      <td>2.0</td>\n",
       "      <td>8.336000</td>\n",
       "      <td>1.783000</td>\n",
       "      <td>39.622172</td>\n",
       "      <td>-112.980629</td>\n",
       "      <td>24.353100</td>\n",
       "      <td>1.100397e+07</td>\n",
       "      <td>1.549656e+09</td>\n",
       "    </tr>\n",
       "    <tr>\n",
       "      <th>std</th>\n",
       "      <td>0.0</td>\n",
       "      <td>0.0</td>\n",
       "      <td>1.149097</td>\n",
       "      <td>1.101092</td>\n",
       "      <td>18.279838</td>\n",
       "      <td>61.241554</td>\n",
       "      <td>45.350977</td>\n",
       "      <td>3.639370e+02</td>\n",
       "      <td>9.934298e+04</td>\n",
       "    </tr>\n",
       "    <tr>\n",
       "      <th>min</th>\n",
       "      <td>2019.0</td>\n",
       "      <td>2.0</td>\n",
       "      <td>7.000000</td>\n",
       "      <td>0.100000</td>\n",
       "      <td>-52.976100</td>\n",
       "      <td>-179.543700</td>\n",
       "      <td>-3.000000</td>\n",
       "      <td>1.100333e+07</td>\n",
       "      <td>1.549502e+09</td>\n",
       "    </tr>\n",
       "    <tr>\n",
       "      <th>25%</th>\n",
       "      <td>2019.0</td>\n",
       "      <td>2.0</td>\n",
       "      <td>7.000000</td>\n",
       "      <td>1.100000</td>\n",
       "      <td>33.467000</td>\n",
       "      <td>-149.908350</td>\n",
       "      <td>2.900000</td>\n",
       "      <td>1.100363e+07</td>\n",
       "      <td>1.549569e+09</td>\n",
       "    </tr>\n",
       "    <tr>\n",
       "      <th>50%</th>\n",
       "      <td>2019.0</td>\n",
       "      <td>2.0</td>\n",
       "      <td>8.000000</td>\n",
       "      <td>1.600000</td>\n",
       "      <td>36.953000</td>\n",
       "      <td>-118.924750</td>\n",
       "      <td>9.600000</td>\n",
       "      <td>1.100399e+07</td>\n",
       "      <td>1.549645e+09</td>\n",
       "    </tr>\n",
       "    <tr>\n",
       "      <th>75%</th>\n",
       "      <td>2019.0</td>\n",
       "      <td>2.0</td>\n",
       "      <td>9.000000</td>\n",
       "      <td>2.100000</td>\n",
       "      <td>60.338525</td>\n",
       "      <td>-116.288800</td>\n",
       "      <td>32.350000</td>\n",
       "      <td>1.100429e+07</td>\n",
       "      <td>1.549743e+09</td>\n",
       "    </tr>\n",
       "    <tr>\n",
       "      <th>max</th>\n",
       "      <td>2019.0</td>\n",
       "      <td>2.0</td>\n",
       "      <td>11.000000</td>\n",
       "      <td>5.900000</td>\n",
       "      <td>69.572000</td>\n",
       "      <td>178.160500</td>\n",
       "      <td>573.900000</td>\n",
       "      <td>1.100456e+07</td>\n",
       "      <td>1.549858e+09</td>\n",
       "    </tr>\n",
       "  </tbody>\n",
       "</table>\n",
       "</div>"
      ],
      "text/plain": [
       "         Year   Month          Day          Mag          Lat          Lon  \\\n",
       "count  1000.0  1000.0  1000.000000  1000.000000  1000.000000  1000.000000   \n",
       "mean   2019.0     2.0     8.336000     1.783000    39.622172  -112.980629   \n",
       "std       0.0     0.0     1.149097     1.101092    18.279838    61.241554   \n",
       "min    2019.0     2.0     7.000000     0.100000   -52.976100  -179.543700   \n",
       "25%    2019.0     2.0     7.000000     1.100000    33.467000  -149.908350   \n",
       "50%    2019.0     2.0     8.000000     1.600000    36.953000  -118.924750   \n",
       "75%    2019.0     2.0     9.000000     2.100000    60.338525  -116.288800   \n",
       "max    2019.0     2.0    11.000000     5.900000    69.572000   178.160500   \n",
       "\n",
       "          Depth km       IRIS ID     Timestamp  \n",
       "count  1000.000000  1.000000e+03  1.000000e+03  \n",
       "mean     24.353100  1.100397e+07  1.549656e+09  \n",
       "std      45.350977  3.639370e+02  9.934298e+04  \n",
       "min      -3.000000  1.100333e+07  1.549502e+09  \n",
       "25%       2.900000  1.100363e+07  1.549569e+09  \n",
       "50%       9.600000  1.100399e+07  1.549645e+09  \n",
       "75%      32.350000  1.100429e+07  1.549743e+09  \n",
       "max     573.900000  1.100456e+07  1.549858e+09  "
      ]
     },
     "execution_count": 2,
     "metadata": {},
     "output_type": "execute_result"
    }
   ],
   "source": [
    "#Enter your codes here\n",
    "eq = pd.read_csv('earthquake.csv')\n",
    "eq.describe()"
   ]
  },
  {
   "cell_type": "markdown",
   "metadata": {},
   "source": [
    "### (b) Calculate the average magnitude of earthquakes in this catalog\n",
    "(10 points)"
   ]
  },
  {
   "cell_type": "code",
   "execution_count": 3,
   "metadata": {},
   "outputs": [
    {
     "data": {
      "text/plain": [
       "1.7830000000000006"
      ]
     },
     "execution_count": 3,
     "metadata": {},
     "output_type": "execute_result"
    }
   ],
   "source": [
    "#Enter your codes here\n",
    "eq['Mag'].mean()"
   ]
  },
  {
   "cell_type": "markdown",
   "metadata": {},
   "source": [
    "### (c) Calculate the average depth of the earthquakes whose magnitude is larger than 2.0\n",
    "(10 points)"
   ]
  },
  {
   "cell_type": "code",
   "execution_count": 4,
   "metadata": {},
   "outputs": [
    {
     "data": {
      "text/plain": [
       "45.59810606060604"
      ]
     },
     "execution_count": 4,
     "metadata": {},
     "output_type": "execute_result"
    }
   ],
   "source": [
    "#Enter your codes here\n",
    "eq[eq['Mag'] > 2.0]['Depth km'].mean()"
   ]
  },
  {
   "cell_type": "markdown",
   "metadata": {},
   "source": [
    "### (d) Find the maximum depth of the earthquakes\n",
    "(10 points)"
   ]
  },
  {
   "cell_type": "code",
   "execution_count": 5,
   "metadata": {},
   "outputs": [
    {
     "data": {
      "text/plain": [
       "573.9"
      ]
     },
     "execution_count": 5,
     "metadata": {},
     "output_type": "execute_result"
    }
   ],
   "source": [
    "#Enter your codes here\n",
    "eq['Depth km'].max()"
   ]
  },
  {
   "cell_type": "markdown",
   "metadata": {},
   "source": [
    "### (e) In which region(s) does the largest earthquake(s) happen?\n",
    "(15 points)"
   ]
  },
  {
   "cell_type": "code",
   "execution_count": 6,
   "metadata": {},
   "outputs": [
    {
     "data": {
      "text/html": [
       "<div>\n",
       "<style scoped>\n",
       "    .dataframe tbody tr th:only-of-type {\n",
       "        vertical-align: middle;\n",
       "    }\n",
       "\n",
       "    .dataframe tbody tr th {\n",
       "        vertical-align: top;\n",
       "    }\n",
       "\n",
       "    .dataframe thead th {\n",
       "        text-align: right;\n",
       "    }\n",
       "</style>\n",
       "<table border=\"1\" class=\"dataframe\">\n",
       "  <thead>\n",
       "    <tr style=\"text-align: right;\">\n",
       "      <th></th>\n",
       "      <th>Region</th>\n",
       "    </tr>\n",
       "  </thead>\n",
       "  <tbody>\n",
       "    <tr>\n",
       "      <th>562</th>\n",
       "      <td>MINDANAO, PHILIPPINES</td>\n",
       "    </tr>\n",
       "  </tbody>\n",
       "</table>\n",
       "</div>"
      ],
      "text/plain": [
       "                    Region\n",
       "562  MINDANAO, PHILIPPINES"
      ]
     },
     "execution_count": 6,
     "metadata": {},
     "output_type": "execute_result"
    }
   ],
   "source": [
    "#Enter your codes here\n",
    "eq.loc[eq['Mag'] == eq['Mag'].max(), ['Region']]"
   ]
  },
  {
   "cell_type": "markdown",
   "metadata": {},
   "source": [
    "### (f) In which region(s) and at what year, month, day and time do the deepest earthquake(s) happen?\n",
    "(20 points)"
   ]
  },
  {
   "cell_type": "code",
   "execution_count": 7,
   "metadata": {},
   "outputs": [
    {
     "data": {
      "text/html": [
       "<div>\n",
       "<style scoped>\n",
       "    .dataframe tbody tr th:only-of-type {\n",
       "        vertical-align: middle;\n",
       "    }\n",
       "\n",
       "    .dataframe tbody tr th {\n",
       "        vertical-align: top;\n",
       "    }\n",
       "\n",
       "    .dataframe thead th {\n",
       "        text-align: right;\n",
       "    }\n",
       "</style>\n",
       "<table border=\"1\" class=\"dataframe\">\n",
       "  <thead>\n",
       "    <tr style=\"text-align: right;\">\n",
       "      <th></th>\n",
       "      <th>Region</th>\n",
       "      <th>Year</th>\n",
       "      <th>Month</th>\n",
       "      <th>Day</th>\n",
       "      <th>Time UTC</th>\n",
       "    </tr>\n",
       "  </thead>\n",
       "  <tbody>\n",
       "    <tr>\n",
       "      <th>25</th>\n",
       "      <td>FLORES SEA</td>\n",
       "      <td>2019</td>\n",
       "      <td>2</td>\n",
       "      <td>10</td>\n",
       "      <td>22:54:37</td>\n",
       "    </tr>\n",
       "  </tbody>\n",
       "</table>\n",
       "</div>"
      ],
      "text/plain": [
       "        Region  Year  Month  Day  Time UTC\n",
       "25  FLORES SEA  2019      2   10  22:54:37"
      ]
     },
     "execution_count": 7,
     "metadata": {},
     "output_type": "execute_result"
    }
   ],
   "source": [
    "#Enter your codes here\n",
    "eq.loc[eq['Depth km'] == eq['Depth km'].max(), ['Region', 'Year', 'Month', 'Day', 'Time UTC']]"
   ]
  },
  {
   "cell_type": "code",
   "execution_count": null,
   "metadata": {},
   "outputs": [],
   "source": []
  }
 ],
 "metadata": {
  "kernelspec": {
   "display_name": "Python 3 (ipykernel)",
   "language": "python",
   "name": "python3"
  },
  "language_info": {
   "codemirror_mode": {
    "name": "ipython",
    "version": 3
   },
   "file_extension": ".py",
   "mimetype": "text/x-python",
   "name": "python",
   "nbconvert_exporter": "python",
   "pygments_lexer": "ipython3",
   "version": "3.9.7"
  }
 },
 "nbformat": 4,
 "nbformat_minor": 4
}
